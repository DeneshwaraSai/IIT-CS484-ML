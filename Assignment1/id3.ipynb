{
 "cells": [
  {
   "cell_type": "markdown",
   "metadata": {},
   "source": [
    "Inspect the dataset titled lab01_dataset_1.csv which has a mixture of numerical and\n",
    "categorical data. Your task will be to write a function my_ID3( ) which can create a decision\n",
    "tree for the given dataset using the ID3 algorithm. However, before doing that, you will be\n",
    "have to perform some data processing tasks. Here are all the required tasks in order –\n",
    "1. ID3 cannot handle continuous numerical data. Perform necessary operations to\n",
    "handle all continuous-valued attributes. Do not forget to show the output i.e., the\n",
    "updated dataset after handling continuous-valued attributes."
   ]
  },
  {
   "cell_type": "markdown",
   "metadata": {},
   "source": []
  },
  {
   "cell_type": "code",
   "execution_count": 59,
   "metadata": {},
   "outputs": [],
   "source": [
    "import pandas as pd\n",
    "import numpy as np"
   ]
  },
  {
   "cell_type": "code",
   "execution_count": 60,
   "metadata": {},
   "outputs": [
    {
     "data": {
      "text/html": [
       "<div>\n",
       "<style scoped>\n",
       "    .dataframe tbody tr th:only-of-type {\n",
       "        vertical-align: middle;\n",
       "    }\n",
       "\n",
       "    .dataframe tbody tr th {\n",
       "        vertical-align: top;\n",
       "    }\n",
       "\n",
       "    .dataframe thead th {\n",
       "        text-align: right;\n",
       "    }\n",
       "</style>\n",
       "<table border=\"1\" class=\"dataframe\">\n",
       "  <thead>\n",
       "    <tr style=\"text-align: right;\">\n",
       "      <th></th>\n",
       "      <th>Mood</th>\n",
       "      <th>Effort</th>\n",
       "      <th>Score</th>\n",
       "      <th>Output</th>\n",
       "    </tr>\n",
       "  </thead>\n",
       "  <tbody>\n",
       "    <tr>\n",
       "      <th>0</th>\n",
       "      <td>Happy</td>\n",
       "      <td>Low</td>\n",
       "      <td>35</td>\n",
       "      <td>Yes</td>\n",
       "    </tr>\n",
       "    <tr>\n",
       "      <th>1</th>\n",
       "      <td>Happy</td>\n",
       "      <td>Medium</td>\n",
       "      <td>91</td>\n",
       "      <td>No</td>\n",
       "    </tr>\n",
       "    <tr>\n",
       "      <th>2</th>\n",
       "      <td>Happy</td>\n",
       "      <td>High</td>\n",
       "      <td>52</td>\n",
       "      <td>No</td>\n",
       "    </tr>\n",
       "    <tr>\n",
       "      <th>3</th>\n",
       "      <td>Neutral</td>\n",
       "      <td>Low</td>\n",
       "      <td>83</td>\n",
       "      <td>No</td>\n",
       "    </tr>\n",
       "    <tr>\n",
       "      <th>4</th>\n",
       "      <td>Neutral</td>\n",
       "      <td>Medium</td>\n",
       "      <td>48</td>\n",
       "      <td>No</td>\n",
       "    </tr>\n",
       "  </tbody>\n",
       "</table>\n",
       "</div>"
      ],
      "text/plain": [
       "      Mood  Effort  Score Output\n",
       "0    Happy     Low     35    Yes\n",
       "1    Happy  Medium     91     No\n",
       "2    Happy    High     52     No\n",
       "3  Neutral     Low     83     No\n",
       "4  Neutral  Medium     48     No"
      ]
     },
     "execution_count": 60,
     "metadata": {},
     "output_type": "execute_result"
    }
   ],
   "source": [
    "data = pd.read_csv(\"lab01_dataset_1.csv\")\n",
    "data.head()"
   ]
  },
  {
   "cell_type": "code",
   "execution_count": 61,
   "metadata": {},
   "outputs": [
    {
     "data": {
      "text/plain": [
       "Index(['Score'], dtype='object')"
      ]
     },
     "execution_count": 61,
     "metadata": {},
     "output_type": "execute_result"
    }
   ],
   "source": [
    "categorialCols = data.select_dtypes(include=['number']).columns\n",
    "categorialCols"
   ]
  },
  {
   "cell_type": "code",
   "execution_count": 69,
   "metadata": {},
   "outputs": [
    {
     "name": "stdout",
     "output_type": "stream",
     "text": [
      "       Mood  Effort Score Output\n",
      "0     Happy     Low     1    Yes\n",
      "1     Happy  Medium     4     No\n",
      "2     Happy    High     2     No\n",
      "3   Neutral     Low     4     No\n",
      "4   Neutral  Medium     1     No\n",
      "5   Neutral    High     2     No\n",
      "6       Sad     Low     1    Yes\n",
      "7       Sad  Medium     4     No\n",
      "8       Sad    High     3    Yes\n",
      "9     Happy     Low     1    Yes\n",
      "10    Happy  Medium     4     No\n",
      "11    Happy    High     1    Yes\n",
      "12    Happy     Low     2     No\n",
      "13  Neutral  Medium     3    Yes\n",
      "14  Neutral    High     1     No\n",
      "15      Sad     Low     3     No\n",
      "16      Sad  Medium     3    Yes\n",
      "17      Sad    High     4     No\n",
      "18      Sad     Low     3    Yes\n"
     ]
    }
   ],
   "source": [
    "for col in categorialCols:\n",
    "    # print(data[col])\n",
    "    bins = (pd.cut(data[col], bins=4, labels=[1, 2, 3, 4]))\n",
    "    data[col] = bins\n",
    "\n",
    "print(data)"
   ]
  },
  {
   "cell_type": "code",
   "execution_count": null,
   "metadata": {},
   "outputs": [],
   "source": []
  }
 ],
 "metadata": {
  "kernelspec": {
   "display_name": "Python 3",
   "language": "python",
   "name": "python3"
  },
  "language_info": {
   "codemirror_mode": {
    "name": "ipython",
    "version": 3
   },
   "file_extension": ".py",
   "mimetype": "text/x-python",
   "name": "python",
   "nbconvert_exporter": "python",
   "pygments_lexer": "ipython3",
   "version": "3.12.1"
  }
 },
 "nbformat": 4,
 "nbformat_minor": 2
}
